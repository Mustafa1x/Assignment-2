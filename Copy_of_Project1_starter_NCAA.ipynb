{
  "nbformat": 4,
  "nbformat_minor": 0,
  "metadata": {
    "colab": {
      "name": "Copy of Project1_starter_NCAA.ipynb",
      "provenance": [],
      "history_visible": true,
      "include_colab_link": true
    },
    "kernelspec": {
      "name": "python3",
      "display_name": "Python 3"
    }
  },
  "cells": [
    {
      "cell_type": "markdown",
      "metadata": {
        "id": "view-in-github",
        "colab_type": "text"
      },
      "source": [
        "<a href=\"https://colab.research.google.com/github/Mustafa1x/Assignment-2/blob/master/Copy_of_Project1_starter_NCAA.ipynb\" target=\"_parent\"><img src=\"https://colab.research.google.com/assets/colab-badge.svg\" alt=\"Open In Colab\"/></a>"
      ]
    },
    {
      "cell_type": "markdown",
      "metadata": {
        "id": "-hiuewiowYFl"
      },
      "source": [
        "#Mustafa Ibrahim \n",
        "#Project 1"
      ]
    },
    {
      "cell_type": "markdown",
      "metadata": {
        "id": "rVExOJMx8DPj"
      },
      "source": [
        "# Project \\#1: NCAA March Madness Modeling\n",
        "\n",
        "## The Data:\n",
        "- Ken Pomeroy (https://kenpom.com/), \n",
        "  - 'kenpom_2021.csv' has a subset of the data from kenpom.com\n",
        "- FiveThirtyEight: https://projects.fivethirtyeight.com/2021-march-madness-predictions/  \n",
        "  - '538ratingsMen.csv' has FiveThirtyEight's rankings\n",
        "- Massey Ratings: https://www.masseyratings.com/cb/ncaa-d1/ratings \n",
        "- Kaggle Machine Learning Mania 2021: https://www.kaggle.com/c/ncaam-march-mania-2021\n",
        "- You can use external data as well, the Kaggle competition has several other linked datasets you can use. \n",
        "\n",
        "Helpful Articles:\n",
        "- https://fivethirtyeight.com/methodology/how-our-march-madness-predictions-work-2/ "
      ]
    },
    {
      "cell_type": "code",
      "metadata": {
        "colab": {
          "base_uri": "https://localhost:8080/",
          "height": 214
        },
        "id": "Sb9-HTNy7_2C",
        "outputId": "0c7fc81d-641a-445a-c447-ad26522396cf"
      },
      "source": [
        "from google.colab import drive\n",
        "import pandas as pd\n",
        "import numpy\n",
        "from sklearn.model_selection import train_test_split\n",
        "from sklearn import neighbors, tree, metrics\n",
        "drive.mount('/content/drive')\n",
        "kenpom = pd.read_csv('/content/drive/MyDrive/Dataset/kenpom_2021.csv')\n",
        "data_538 = pd.read_csv('/content/drive/MyDrive/Dataset/538ratingsMen.csv')\n",
        "train_test_data = pd.read_csv('/content/drive/MyDrive/Dataset/fivethirtyeight_ncaa_forecasts.csv')\n",
        "\n",
        "pd.set_option('display.max_columns', 100)\n",
        "\n",
        "kenpom.head()\n"
      ],
      "execution_count": 14,
      "outputs": [
        {
          "output_type": "stream",
          "text": [
            "Drive already mounted at /content/drive; to attempt to forcibly remount, call drive.mount(\"/content/drive\", force_remount=True).\n"
          ],
          "name": "stdout"
        },
        {
          "output_type": "execute_result",
          "data": {
            "text/html": [
              "<div>\n",
              "<style scoped>\n",
              "    .dataframe tbody tr th:only-of-type {\n",
              "        vertical-align: middle;\n",
              "    }\n",
              "\n",
              "    .dataframe tbody tr th {\n",
              "        vertical-align: top;\n",
              "    }\n",
              "\n",
              "    .dataframe thead th {\n",
              "        text-align: right;\n",
              "    }\n",
              "</style>\n",
              "<table border=\"1\" class=\"dataframe\">\n",
              "  <thead>\n",
              "    <tr style=\"text-align: right;\">\n",
              "      <th></th>\n",
              "      <th>Season</th>\n",
              "      <th>TeamID</th>\n",
              "      <th>adj_o</th>\n",
              "      <th>adj_d</th>\n",
              "      <th>luck</th>\n",
              "      <th>rank</th>\n",
              "      <th>adj_em</th>\n",
              "    </tr>\n",
              "  </thead>\n",
              "  <tbody>\n",
              "    <tr>\n",
              "      <th>0</th>\n",
              "      <td>2011</td>\n",
              "      <td>1326</td>\n",
              "      <td>125.4</td>\n",
              "      <td>88.4</td>\n",
              "      <td>0.043</td>\n",
              "      <td>1</td>\n",
              "      <td>0.9824</td>\n",
              "    </tr>\n",
              "    <tr>\n",
              "      <th>1</th>\n",
              "      <td>2011</td>\n",
              "      <td>1181</td>\n",
              "      <td>118.8</td>\n",
              "      <td>87.2</td>\n",
              "      <td>0.006</td>\n",
              "      <td>2</td>\n",
              "      <td>0.9720</td>\n",
              "    </tr>\n",
              "    <tr>\n",
              "      <th>2</th>\n",
              "      <td>2011</td>\n",
              "      <td>1242</td>\n",
              "      <td>119.8</td>\n",
              "      <td>88.3</td>\n",
              "      <td>0.071</td>\n",
              "      <td>3</td>\n",
              "      <td>0.9711</td>\n",
              "    </tr>\n",
              "    <tr>\n",
              "      <th>3</th>\n",
              "      <td>2011</td>\n",
              "      <td>1400</td>\n",
              "      <td>114.0</td>\n",
              "      <td>85.3</td>\n",
              "      <td>-0.055</td>\n",
              "      <td>4</td>\n",
              "      <td>0.9657</td>\n",
              "    </tr>\n",
              "    <tr>\n",
              "      <th>4</th>\n",
              "      <td>2011</td>\n",
              "      <td>1345</td>\n",
              "      <td>116.1</td>\n",
              "      <td>87.2</td>\n",
              "      <td>-0.004</td>\n",
              "      <td>5</td>\n",
              "      <td>0.9641</td>\n",
              "    </tr>\n",
              "  </tbody>\n",
              "</table>\n",
              "</div>"
            ],
            "text/plain": [
              "   Season  TeamID  adj_o  adj_d   luck  rank  adj_em\n",
              "0    2011    1326  125.4   88.4  0.043     1  0.9824\n",
              "1    2011    1181  118.8   87.2  0.006     2  0.9720\n",
              "2    2011    1242  119.8   88.3  0.071     3  0.9711\n",
              "3    2011    1400  114.0   85.3 -0.055     4  0.9657\n",
              "4    2011    1345  116.1   87.2 -0.004     5  0.9641"
            ]
          },
          "metadata": {
            "tags": []
          },
          "execution_count": 14
        }
      ]
    },
    {
      "cell_type": "code",
      "metadata": {
        "id": "3PoTrrBX8HQt",
        "colab": {
          "base_uri": "https://localhost:8080/",
          "height": 197
        },
        "outputId": "2d452ab3-25f0-4767-87da-e775b463ec76"
      },
      "source": [
        "pd.set_option('display.max_columns', 100)\n",
        "\n",
        "data_538.head()"
      ],
      "execution_count": 5,
      "outputs": [
        {
          "output_type": "execute_result",
          "data": {
            "text/html": [
              "<div>\n",
              "<style scoped>\n",
              "    .dataframe tbody tr th:only-of-type {\n",
              "        vertical-align: middle;\n",
              "    }\n",
              "\n",
              "    .dataframe tbody tr th {\n",
              "        vertical-align: top;\n",
              "    }\n",
              "\n",
              "    .dataframe thead th {\n",
              "        text-align: right;\n",
              "    }\n",
              "</style>\n",
              "<table border=\"1\" class=\"dataframe\">\n",
              "  <thead>\n",
              "    <tr style=\"text-align: right;\">\n",
              "      <th></th>\n",
              "      <th>Season</th>\n",
              "      <th>TeamID</th>\n",
              "      <th>TeamName</th>\n",
              "      <th>538rating</th>\n",
              "    </tr>\n",
              "  </thead>\n",
              "  <tbody>\n",
              "    <tr>\n",
              "      <th>0</th>\n",
              "      <td>2016</td>\n",
              "      <td>1242</td>\n",
              "      <td>Kansas</td>\n",
              "      <td>94.46</td>\n",
              "    </tr>\n",
              "    <tr>\n",
              "      <th>1</th>\n",
              "      <td>2016</td>\n",
              "      <td>1314</td>\n",
              "      <td>North Carolina</td>\n",
              "      <td>93.94</td>\n",
              "    </tr>\n",
              "    <tr>\n",
              "      <th>2</th>\n",
              "      <td>2016</td>\n",
              "      <td>1438</td>\n",
              "      <td>Virginia</td>\n",
              "      <td>92.46</td>\n",
              "    </tr>\n",
              "    <tr>\n",
              "      <th>3</th>\n",
              "      <td>2016</td>\n",
              "      <td>1277</td>\n",
              "      <td>Michigan State</td>\n",
              "      <td>91.84</td>\n",
              "    </tr>\n",
              "    <tr>\n",
              "      <th>4</th>\n",
              "      <td>2016</td>\n",
              "      <td>1328</td>\n",
              "      <td>Oklahoma</td>\n",
              "      <td>89.96</td>\n",
              "    </tr>\n",
              "  </tbody>\n",
              "</table>\n",
              "</div>"
            ],
            "text/plain": [
              "   Season  TeamID        TeamName  538rating\n",
              "0    2016    1242          Kansas      94.46\n",
              "1    2016    1314  North Carolina      93.94\n",
              "2    2016    1438        Virginia      92.46\n",
              "3    2016    1277  Michigan State      91.84\n",
              "4    2016    1328        Oklahoma      89.96"
            ]
          },
          "metadata": {
            "tags": []
          },
          "execution_count": 5
        }
      ]
    },
    {
      "cell_type": "markdown",
      "metadata": {
        "id": "zt2pBp7Yy3lr"
      },
      "source": [
        "## Here I am checking if the kenpom data has any null values in the specified columns."
      ]
    },
    {
      "cell_type": "code",
      "metadata": {
        "id": "VM8SF1oRyXmv",
        "colab": {
          "base_uri": "https://localhost:8080/"
        },
        "outputId": "d37a7ae3-dea4-4fce-83a4-a0049bc1e21d"
      },
      "source": [
        "print(kenpom['Season'].isna().any())\n",
        "\n",
        "print(kenpom['TeamID'].isna().any())\n",
        "\n",
        "print(kenpom['adj_o'].isna().any())\n",
        "\n",
        "print(kenpom['adj_d'].isna().any())\n",
        "\n",
        "print(kenpom['luck'].isna().any())\n",
        "\n",
        "print(kenpom['rank'].isna().any())\n",
        "\n",
        "print(kenpom['adj_em'].isna().any())"
      ],
      "execution_count": 6,
      "outputs": [
        {
          "output_type": "stream",
          "text": [
            "False\n",
            "False\n",
            "False\n",
            "False\n",
            "False\n",
            "False\n",
            "False\n"
          ],
          "name": "stdout"
        }
      ]
    },
    {
      "cell_type": "markdown",
      "metadata": {
        "id": "CTUw-tv71G0v"
      },
      "source": [
        "## Here I am checking if the data_538 data has any null values in the specified columns."
      ]
    },
    {
      "cell_type": "code",
      "metadata": {
        "id": "s3k7zDLX03Vv",
        "colab": {
          "base_uri": "https://localhost:8080/"
        },
        "outputId": "173ecffc-7e0e-466b-80b2-69a16e8ba901"
      },
      "source": [
        "print(data_538['Season'].isna().any())\n",
        "\n",
        "print(data_538['TeamID'].isna().any())\n",
        "\n",
        "print(data_538['TeamName'].isna().any())\n",
        "\n",
        "print(data_538['538rating'].isna().any())\n",
        "\n"
      ],
      "execution_count": 7,
      "outputs": [
        {
          "output_type": "stream",
          "text": [
            "False\n",
            "False\n",
            "False\n",
            "False\n"
          ],
          "name": "stdout"
        }
      ]
    },
    {
      "cell_type": "markdown",
      "metadata": {
        "id": "kbYY4YSNNFza"
      },
      "source": [
        "## Here I created a KNN function that can give you the teams expected rating depending on the input. Here I demonstrated it works with the input 2."
      ]
    },
    {
      "cell_type": "code",
      "metadata": {
        "id": "4MBjwdC61PnZ"
      },
      "source": [
        "def knn(new_rating, data, k):\n",
        "\n",
        "  data_copy= data.copy()\n",
        "\n",
        "  data_copy['distance_to_new'] = numpy.sqrt((new_rating['Season']-data['Season']) ** 2 +(new_rating['TeamID']-data['TeamID']) ** 2 + (new_rating['538rating']-data['538rating']) ** 2) \n",
        "  \n",
        "  sorted_data = data_copy.sort_values(['distance_to_new']) \n",
        "  \n",
        "  return sorted_data.iloc[0:k]['538rating'].mean()"
      ],
      "execution_count": 12,
      "outputs": []
    },
    {
      "cell_type": "code",
      "metadata": {
        "id": "bjD4nPn72Bip",
        "colab": {
          "base_uri": "https://localhost:8080/"
        },
        "outputId": "eadcc976-6040-41dc-954f-c4fd97f3cf0c"
      },
      "source": [
        "new_rating = {}\n",
        "\n",
        "new_rating['Season'] = 2020\n",
        "\n",
        "new_rating['TeamID'] = 1242\n",
        "\n",
        "new_rating['538rating'] = 94.46\n",
        "\n",
        "print(knn(new_rating, data_538, 2))"
      ],
      "execution_count": 13,
      "outputs": [
        {
          "output_type": "stream",
          "text": [
            "93.32\n"
          ],
          "name": "stdout"
        }
      ]
    },
    {
      "cell_type": "markdown",
      "metadata": {
        "id": "4e3bO6IDT6Vs"
      },
      "source": [
        "## Decision tree:"
      ]
    },
    {
      "cell_type": "code",
      "metadata": {
        "id": "4lbfMLI9OXYq"
      },
      "source": [
        "predictors = ['team_rating','team_id','rd1_win', 'rd2_win', 'rd3_win', 'rd4_win',\n",
        "              'rd5_win', 'rd6_win', 'rd7_win', 'team_alive'] \n",
        "target = \"team_seed\"\n",
        "\n",
        "train_data, test_data, train_sln, test_sln =  train_test_split(train_test_data[predictors], train_test_data[target], test_size = 0.2, random_state=41) "
      ],
      "execution_count": 32,
      "outputs": []
    },
    {
      "cell_type": "code",
      "metadata": {
        "colab": {
          "base_uri": "https://localhost:8080/",
          "height": 369
        },
        "id": "5AvJQY_XOHnz",
        "outputId": "325e3875-1ab5-4607-eae9-7a4e21489900"
      },
      "source": [
        "dt = tree.DecisionTreeRegressor()\n",
        "\n",
        "dt.fit(train_data, train_sln)\n",
        "\n",
        "dt_predictions = dt.predict(test_data)\n",
        "\n",
        "print(metrics.r2_score(test_sln, dt_predictions)) "
      ],
      "execution_count": 33,
      "outputs": [
        {
          "output_type": "error",
          "ename": "ValueError",
          "evalue": "ignored",
          "traceback": [
            "\u001b[0;31m---------------------------------------------------------------------------\u001b[0m",
            "\u001b[0;31mValueError\u001b[0m                                Traceback (most recent call last)",
            "\u001b[0;32m<ipython-input-33-dc60361be111>\u001b[0m in \u001b[0;36m<module>\u001b[0;34m()\u001b[0m\n\u001b[1;32m      1\u001b[0m \u001b[0mdt\u001b[0m \u001b[0;34m=\u001b[0m \u001b[0mtree\u001b[0m\u001b[0;34m.\u001b[0m\u001b[0mDecisionTreeRegressor\u001b[0m\u001b[0;34m(\u001b[0m\u001b[0;34m)\u001b[0m\u001b[0;34m\u001b[0m\u001b[0;34m\u001b[0m\u001b[0m\n\u001b[1;32m      2\u001b[0m \u001b[0;34m\u001b[0m\u001b[0m\n\u001b[0;32m----> 3\u001b[0;31m \u001b[0mdt\u001b[0m\u001b[0;34m.\u001b[0m\u001b[0mfit\u001b[0m\u001b[0;34m(\u001b[0m\u001b[0mtrain_data\u001b[0m\u001b[0;34m,\u001b[0m \u001b[0mtrain_sln\u001b[0m\u001b[0;34m)\u001b[0m\u001b[0;34m\u001b[0m\u001b[0;34m\u001b[0m\u001b[0m\n\u001b[0m\u001b[1;32m      4\u001b[0m \u001b[0;34m\u001b[0m\u001b[0m\n\u001b[1;32m      5\u001b[0m \u001b[0mdt_predictions\u001b[0m \u001b[0;34m=\u001b[0m \u001b[0mdt\u001b[0m\u001b[0;34m.\u001b[0m\u001b[0mpredict\u001b[0m\u001b[0;34m(\u001b[0m\u001b[0mtest_data\u001b[0m\u001b[0;34m)\u001b[0m\u001b[0;34m\u001b[0m\u001b[0;34m\u001b[0m\u001b[0m\n",
            "\u001b[0;32m/usr/local/lib/python3.7/dist-packages/sklearn/tree/_classes.py\u001b[0m in \u001b[0;36mfit\u001b[0;34m(self, X, y, sample_weight, check_input, X_idx_sorted)\u001b[0m\n\u001b[1;32m   1223\u001b[0m             \u001b[0msample_weight\u001b[0m\u001b[0;34m=\u001b[0m\u001b[0msample_weight\u001b[0m\u001b[0;34m,\u001b[0m\u001b[0;34m\u001b[0m\u001b[0;34m\u001b[0m\u001b[0m\n\u001b[1;32m   1224\u001b[0m             \u001b[0mcheck_input\u001b[0m\u001b[0;34m=\u001b[0m\u001b[0mcheck_input\u001b[0m\u001b[0;34m,\u001b[0m\u001b[0;34m\u001b[0m\u001b[0;34m\u001b[0m\u001b[0m\n\u001b[0;32m-> 1225\u001b[0;31m             X_idx_sorted=X_idx_sorted)\n\u001b[0m\u001b[1;32m   1226\u001b[0m         \u001b[0;32mreturn\u001b[0m \u001b[0mself\u001b[0m\u001b[0;34m\u001b[0m\u001b[0;34m\u001b[0m\u001b[0m\n\u001b[1;32m   1227\u001b[0m \u001b[0;34m\u001b[0m\u001b[0m\n",
            "\u001b[0;32m/usr/local/lib/python3.7/dist-packages/sklearn/tree/_classes.py\u001b[0m in \u001b[0;36mfit\u001b[0;34m(self, X, y, sample_weight, check_input, X_idx_sorted)\u001b[0m\n\u001b[1;32m    195\u001b[0m \u001b[0;34m\u001b[0m\u001b[0m\n\u001b[1;32m    196\u001b[0m         \u001b[0;32mif\u001b[0m \u001b[0mgetattr\u001b[0m\u001b[0;34m(\u001b[0m\u001b[0my\u001b[0m\u001b[0;34m,\u001b[0m \u001b[0;34m\"dtype\"\u001b[0m\u001b[0;34m,\u001b[0m \u001b[0;32mNone\u001b[0m\u001b[0;34m)\u001b[0m \u001b[0;34m!=\u001b[0m \u001b[0mDOUBLE\u001b[0m \u001b[0;32mor\u001b[0m \u001b[0;32mnot\u001b[0m \u001b[0my\u001b[0m\u001b[0;34m.\u001b[0m\u001b[0mflags\u001b[0m\u001b[0;34m.\u001b[0m\u001b[0mcontiguous\u001b[0m\u001b[0;34m:\u001b[0m\u001b[0;34m\u001b[0m\u001b[0;34m\u001b[0m\u001b[0m\n\u001b[0;32m--> 197\u001b[0;31m             \u001b[0my\u001b[0m \u001b[0;34m=\u001b[0m \u001b[0mnp\u001b[0m\u001b[0;34m.\u001b[0m\u001b[0mascontiguousarray\u001b[0m\u001b[0;34m(\u001b[0m\u001b[0my\u001b[0m\u001b[0;34m,\u001b[0m \u001b[0mdtype\u001b[0m\u001b[0;34m=\u001b[0m\u001b[0mDOUBLE\u001b[0m\u001b[0;34m)\u001b[0m\u001b[0;34m\u001b[0m\u001b[0;34m\u001b[0m\u001b[0m\n\u001b[0m\u001b[1;32m    198\u001b[0m \u001b[0;34m\u001b[0m\u001b[0m\n\u001b[1;32m    199\u001b[0m         \u001b[0;31m# Check parameters\u001b[0m\u001b[0;34m\u001b[0m\u001b[0;34m\u001b[0m\u001b[0;34m\u001b[0m\u001b[0m\n",
            "\u001b[0;32m/usr/local/lib/python3.7/dist-packages/numpy/core/_asarray.py\u001b[0m in \u001b[0;36mascontiguousarray\u001b[0;34m(a, dtype)\u001b[0m\n\u001b[1;32m    175\u001b[0m \u001b[0;34m\u001b[0m\u001b[0m\n\u001b[1;32m    176\u001b[0m     \"\"\"\n\u001b[0;32m--> 177\u001b[0;31m     \u001b[0;32mreturn\u001b[0m \u001b[0marray\u001b[0m\u001b[0;34m(\u001b[0m\u001b[0ma\u001b[0m\u001b[0;34m,\u001b[0m \u001b[0mdtype\u001b[0m\u001b[0;34m,\u001b[0m \u001b[0mcopy\u001b[0m\u001b[0;34m=\u001b[0m\u001b[0;32mFalse\u001b[0m\u001b[0;34m,\u001b[0m \u001b[0morder\u001b[0m\u001b[0;34m=\u001b[0m\u001b[0;34m'C'\u001b[0m\u001b[0;34m,\u001b[0m \u001b[0mndmin\u001b[0m\u001b[0;34m=\u001b[0m\u001b[0;36m1\u001b[0m\u001b[0;34m)\u001b[0m\u001b[0;34m\u001b[0m\u001b[0;34m\u001b[0m\u001b[0m\n\u001b[0m\u001b[1;32m    178\u001b[0m \u001b[0;34m\u001b[0m\u001b[0m\n\u001b[1;32m    179\u001b[0m \u001b[0;34m\u001b[0m\u001b[0m\n",
            "\u001b[0;31mValueError\u001b[0m: could not convert string to float: '11b'"
          ]
        }
      ]
    }
  ]
}